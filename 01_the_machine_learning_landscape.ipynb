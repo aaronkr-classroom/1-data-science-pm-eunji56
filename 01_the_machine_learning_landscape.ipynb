{
  "cells": [
    {
      "cell_type": "markdown",
      "metadata": {
        "id": "0k6judZdX1VS"
      },
      "source": [
        "**1장 – 한 눈에 보는 머신러닝**\n",
        "\n",
        "_이 노트북은 1장의 코드를 담고 있습니다. 원본 데이터에서 `lifesat.csv` 파일을 만들고 이 장에서 사용하는 그림을 생성합니다._\n",
        "\n",
        "이 노트북의 코드를 살펴 봐도 좋지만 실제 예제는 다음 장부터 시작합니다."
      ]
    },
    {
      "cell_type": "markdown",
      "metadata": {
        "id": "lk8WiQHHX1VV"
      },
      "source": [
        "<table align=\"left\">\n",
        "  <td>\n",
        "    <a href=\"https://colab.research.google.com/github/rickiepark/handson-ml3/blob/main/01_the_machine_learning_landscape.ipynb\" target=\"_parent\"><img src=\"https://colab.research.google.com/assets/colab-badge.svg\" alt=\"Open In Colab\"/></a>\n",
        "  </td>\n",
        "</table>"
      ]
    },
    {
      "cell_type": "markdown",
      "metadata": {
        "id": "0wTqHdJdX1VV"
      },
      "source": [
        "# 설정"
      ]
    },
    {
      "cell_type": "markdown",
      "metadata": {
        "id": "Lpa9Kfv6X1VW"
      },
      "source": [
        "파이썬 3.7 또는 그 이상이 필요합니다:"
      ]
    },
    {
      "cell_type": "code",
      "execution_count": 1,
      "metadata": {
        "id": "0jlZ-TXjX1VW"
      },
      "outputs": [],
      "source": [
        "import sys\n",
        "\n",
        "assert sys.version_info >= (3, 7)"
      ]
    },
    {
      "cell_type": "markdown",
      "metadata": {
        "id": "JIKOEmKLX1VX"
      },
      "source": [
        "Scikit-Learn ≥1.0.1이 필요합니다:"
      ]
    },
    {
      "cell_type": "code",
      "execution_count": 2,
      "metadata": {
        "id": "1Jp6WQ_QX1VX"
      },
      "outputs": [],
      "source": [
        "from packaging import version\n",
        "import sklearn\n",
        "\n",
        "assert version.parse(sklearn.__version__) >= version.parse(\"1.0.1\")"
      ]
    },
    {
      "cell_type": "markdown",
      "metadata": {
        "id": "7zA7AYxqX1VX"
      },
      "source": [
        "미려한 그림을 위해 기본 폰트 크기를 지정합니다:"
      ]
    },
    {
      "cell_type": "code",
      "execution_count": 4,
      "metadata": {
        "id": "uVVdkhovX1VY"
      },
      "outputs": [],
      "source": [
        "import matplotlib.pyplot as plt\n",
        "\n",
        "plt.rc('font', size=12)\n",
        "plt.rc('axes', labelsize=14, titlesize=14)\n",
        "plt.rc('legend', fontsize=12)\n",
        "plt.rc('xtick', labelsize=10)\n",
        "plt.rc('ytick', labelsize=10)"
      ]
    },
    {
      "cell_type": "markdown",
      "metadata": {
        "id": "4ux4_mURX1VY"
      },
      "source": [
        "출력 결과를 일정하게 유지하기 위해 랜덤 시드를 지정합니다:"
      ]
    },
    {
      "cell_type": "code",
      "execution_count": 5,
      "metadata": {
        "id": "m0Uow-QOX1VY"
      },
      "outputs": [],
      "source": [
        "import numpy as np\n",
        "\n",
        "np.random.seed(42)"
      ]
    },
    {
      "cell_type": "markdown",
      "metadata": {
        "id": "oJ6aYXoZX1VY"
      },
      "source": [
        "# 코드 예제 1-1"
      ]
    },
    {
      "cell_type": "code",
      "execution_count": 1,
      "metadata": {
        "colab": {
          "base_uri": "https://localhost:8080/",
          "height": 478
        },
        "id": "07tcOVkSX1VY",
        "outputId": "3639fd5d-3f1a-4e56-af3d-ef98f0f5d70a"
      },
      "outputs": [],
      "source": [
        "\n",
        "# 1.4.3 모델 기반 학습 (회귀)\n",
        "import matplotlib.pyplot as plt\n",
        "import numpy as np\n",
        "import pandas as pd\n",
        "from sklearn.linear_model import LinearRegression"
      ]
    },
    {
      "cell_type": "code",
      "execution_count": 2,
      "metadata": {},
      "outputs": [],
      "source": [
        "data_src = \"http://github.com/ageron/data/raw/main/\"\n",
        "lifesat = pd.read_csv(data_src + \"lifesat/lifesat.csv\")\n"
      ]
    },
    {
      "cell_type": "code",
      "execution_count": 3,
      "metadata": {},
      "outputs": [],
      "source": [
        "gdp_col = \"GDP per capita (USD)\"\n",
        "ls_col = \"Life satisfaction\"\n",
        "\n",
        "x = lifesat[[gdp_col]].values\n",
        "y = lifesat[[ls_col]].values\n"
      ]
    },
    {
      "cell_type": "code",
      "execution_count": 5,
      "metadata": {},
      "outputs": [
        {
          "data": {
            "image/png": "[encoded data removed]",
            "text/plain": [
              "<Figure size 640x480 with 1 Axes>"
            ]
          },
          "metadata": {},
          "output_type": "display_data"
        }
      ],
      "source": [
        "# 데이터를 그래프로 나타냅니다\n",
        "min_gdp = 23_500\n",
        "max_gdp = 62_500\n",
        "min_ls = 4\n",
        "max_ls = 9\n",
        "\n",
        "lifesat.plot(kind = 'scatter', grid = True,\n",
        "            x = gdp_col, y= ls_col)\n",
        "plt.axis([min_gdp,max_gdp,min_ls,max_ls])\n",
        "plt.show()\n"
      ]
    },
    {
      "cell_type": "code",
      "execution_count": 7,
      "metadata": {},
      "outputs": [
        {
          "data": {
            "text/html": [
              "<style>#sk-container-id-1 {\n",
              "  /* Definition of color scheme common for light and dark mode */\n",
              "  --sklearn-color-text: black;\n",
              "  --sklearn-color-line: gray;\n",
              "  /* Definition of color scheme for unfitted estimators */\n",
              "  --sklearn-color-unfitted-level-0: #fff5e6;\n",
              "  --sklearn-color-unfitted-level-1: #f6e4d2;\n",
              "  --sklearn-color-unfitted-level-2: #ffe0b3;\n",
              "  --sklearn-color-unfitted-level-3: chocolate;\n",
              "  /* Definition of color scheme for fitted estimators */\n",
              "  --sklearn-color-fitted-level-0: #f0f8ff;\n",
              "  --sklearn-color-fitted-level-1: #d4ebff;\n",
              "  --sklearn-color-fitted-level-2: #b3dbfd;\n",
              "  --sklearn-color-fitted-level-3: cornflowerblue;\n",
              "\n",
              "  /* Specific color for light theme */\n",
              "  --sklearn-color-text-on-default-background: var(--sg-text-color, var(--theme-code-foreground, var(--jp-content-font-color1, black)));\n",
              "  --sklearn-color-background: var(--sg-background-color, var(--theme-background, var(--jp-layout-color0, white)));\n",
              "  --sklearn-color-border-box: var(--sg-text-color, var(--theme-code-foreground, var(--jp-content-font-color1, black)));\n",
              "  --sklearn-color-icon: #696969;\n",
              "\n",
              "  @media (prefers-color-scheme: dark) {\n",
              "    /* Redefinition of color scheme for dark theme */\n",
              "    --sklearn-color-text-on-default-background: var(--sg-text-color, var(--theme-code-foreground, var(--jp-content-font-color1, white)));\n",
              "    --sklearn-color-background: var(--sg-background-color, var(--theme-background, var(--jp-layout-color0, #111)));\n",
              "    --sklearn-color-border-box: var(--sg-text-color, var(--theme-code-foreground, var(--jp-content-font-color1, white)));\n",
              "    --sklearn-color-icon: #878787;\n",
              "  }\n",
              "}\n",
              "\n",
              "#sk-container-id-1 {\n",
              "  color: var(--sklearn-color-text);\n",
              "}\n",
              "\n",
              "#sk-container-id-1 pre {\n",
              "  padding: 0;\n",
              "}\n",
              "\n",
              "#sk-container-id-1 input.sk-hidden--visually {\n",
              "  border: 0;\n",
              "  clip: rect(1px 1px 1px 1px);\n",
              "  clip: rect(1px, 1px, 1px, 1px);\n",
              "  height: 1px;\n",
              "  margin: -1px;\n",
              "  overflow: hidden;\n",
              "  padding: 0;\n",
              "  position: absolute;\n",
              "  width: 1px;\n",
              "}\n",
              "\n",
              "#sk-container-id-1 div.sk-dashed-wrapped {\n",
              "  border: 1px dashed var(--sklearn-color-line);\n",
              "  margin: 0 0.4em 0.5em 0.4em;\n",
              "  box-sizing: border-box;\n",
              "  padding-bottom: 0.4em;\n",
              "  background-color: var(--sklearn-color-background);\n",
              "}\n",
              "\n",
              "#sk-container-id-1 div.sk-container {\n",
              "  /* jupyter's `normalize.less` sets `[hidden] { display: none; }`\n",
              "     but bootstrap.min.css set `[hidden] { display: none !important; }`\n",
              "     so we also need the `!important` here to be able to override the\n",
              "     default hidden behavior on the sphinx rendered scikit-learn.org.\n",
              "     See: https://github.com/scikit-learn/scikit-learn/issues/21755 */\n",
              "  display: inline-block !important;\n",
              "  position: relative;\n",
              "}\n",
              "\n",
              "#sk-container-id-1 div.sk-text-repr-fallback {\n",
              "  display: none;\n",
              "}\n",
              "\n",
              "div.sk-parallel-item,\n",
              "div.sk-serial,\n",
              "div.sk-item {\n",
              "  /* draw centered vertical line to link estimators */\n",
              "  background-image: linear-gradient(var(--sklearn-color-text-on-default-background), var(--sklearn-color-text-on-default-background));\n",
              "  background-size: 2px 100%;\n",
              "  background-repeat: no-repeat;\n",
              "  background-position: center center;\n",
              "}\n",
              "\n",
              "/* Parallel-specific style estimator block */\n",
              "\n",
              "#sk-container-id-1 div.sk-parallel-item::after {\n",
              "  content: \"\";\n",
              "  width: 100%;\n",
              "  border-bottom: 2px solid var(--sklearn-color-text-on-default-background);\n",
              "  flex-grow: 1;\n",
              "}\n",
              "\n",
              "#sk-container-id-1 div.sk-parallel {\n",
              "  display: flex;\n",
              "  align-items: stretch;\n",
              "  justify-content: center;\n",
              "  background-color: var(--sklearn-color-background);\n",
              "  position: relative;\n",
              "}\n",
              "\n",
              "#sk-container-id-1 div.sk-parallel-item {\n",
              "  display: flex;\n",
              "  flex-direction: column;\n",
              "}\n",
              "\n",
              "#sk-container-id-1 div.sk-parallel-item:first-child::after {\n",
              "  align-self: flex-end;\n",
              "  width: 50%;\n",
              "}\n",
              "\n",
              "#sk-container-id-1 div.sk-parallel-item:last-child::after {\n",
              "  align-self: flex-start;\n",
              "  width: 50%;\n",
              "}\n",
              "\n",
              "#sk-container-id-1 div.sk-parallel-item:only-child::after {\n",
              "  width: 0;\n",
              "}\n",
              "\n",
              "/* Serial-specific style estimator block */\n",
              "\n",
              "#sk-container-id-1 div.sk-serial {\n",
              "  display: flex;\n",
              "  flex-direction: column;\n",
              "  align-items: center;\n",
              "  background-color: var(--sklearn-color-background);\n",
              "  padding-right: 1em;\n",
              "  padding-left: 1em;\n",
              "}\n",
              "\n",
              "\n",
              "/* Toggleable style: style used for estimator/Pipeline/ColumnTransformer box that is\n",
              "clickable and can be expanded/collapsed.\n",
              "- Pipeline and ColumnTransformer use this feature and define the default style\n",
              "- Estimators will overwrite some part of the style using the `sk-estimator` class\n",
              "*/\n",
              "\n",
              "/* Pipeline and ColumnTransformer style (default) */\n",
              "\n",
              "#sk-container-id-1 div.sk-toggleable {\n",
              "  /* Default theme specific background. It is overwritten whether we have a\n",
              "  specific estimator or a Pipeline/ColumnTransformer */\n",
              "  background-color: var(--sklearn-color-background);\n",
              "}\n",
              "\n",
              "/* Toggleable label */\n",
              "#sk-container-id-1 label.sk-toggleable__label {\n",
              "  cursor: pointer;\n",
              "  display: block;\n",
              "  width: 100%;\n",
              "  margin-bottom: 0;\n",
              "  padding: 0.5em;\n",
              "  box-sizing: border-box;\n",
              "  text-align: center;\n",
              "}\n",
              "\n",
              "#sk-container-id-1 label.sk-toggleable__label-arrow:before {\n",
              "  /* Arrow on the left of the label */\n",
              "  content: \"▸\";\n",
              "  float: left;\n",
              "  margin-right: 0.25em;\n",
              "  color: var(--sklearn-color-icon);\n",
              "}\n",
              "\n",
              "#sk-container-id-1 label.sk-toggleable__label-arrow:hover:before {\n",
              "  color: var(--sklearn-color-text);\n",
              "}\n",
              "\n",
              "/* Toggleable content - dropdown */\n",
              "\n",
              "#sk-container-id-1 div.sk-toggleable__content {\n",
              "  max-height: 0;\n",
              "  max-width: 0;\n",
              "  overflow: hidden;\n",
              "  text-align: left;\n",
              "  /* unfitted */\n",
              "  background-color: var(--sklearn-color-unfitted-level-0);\n",
              "}\n",
              "\n",
              "#sk-container-id-1 div.sk-toggleable__content.fitted {\n",
              "  /* fitted */\n",
              "  background-color: var(--sklearn-color-fitted-level-0);\n",
              "}\n",
              "\n",
              "#sk-container-id-1 div.sk-toggleable__content pre {\n",
              "  margin: 0.2em;\n",
              "  border-radius: 0.25em;\n",
              "  color: var(--sklearn-color-text);\n",
              "  /* unfitted */\n",
              "  background-color: var(--sklearn-color-unfitted-level-0);\n",
              "}\n",
              "\n",
              "#sk-container-id-1 div.sk-toggleable__content.fitted pre {\n",
              "  /* unfitted */\n",
              "  background-color: var(--sklearn-color-fitted-level-0);\n",
              "}\n",
              "\n",
              "#sk-container-id-1 input.sk-toggleable__control:checked~div.sk-toggleable__content {\n",
              "  /* Expand drop-down */\n",
              "  max-height: 200px;\n",
              "  max-width: 100%;\n",
              "  overflow: auto;\n",
              "}\n",
              "\n",
              "#sk-container-id-1 input.sk-toggleable__control:checked~label.sk-toggleable__label-arrow:before {\n",
              "  content: \"▾\";\n",
              "}\n",
              "\n",
              "/* Pipeline/ColumnTransformer-specific style */\n",
              "\n",
              "#sk-container-id-1 div.sk-label input.sk-toggleable__control:checked~label.sk-toggleable__label {\n",
              "  color: var(--sklearn-color-text);\n",
              "  background-color: var(--sklearn-color-unfitted-level-2);\n",
              "}\n",
              "\n",
              "#sk-container-id-1 div.sk-label.fitted input.sk-toggleable__control:checked~label.sk-toggleable__label {\n",
              "  background-color: var(--sklearn-color-fitted-level-2);\n",
              "}\n",
              "\n",
              "/* Estimator-specific style */\n",
              "\n",
              "/* Colorize estimator box */\n",
              "#sk-container-id-1 div.sk-estimator input.sk-toggleable__control:checked~label.sk-toggleable__label {\n",
              "  /* unfitted */\n",
              "  background-color: var(--sklearn-color-unfitted-level-2);\n",
              "}\n",
              "\n",
              "#sk-container-id-1 div.sk-estimator.fitted input.sk-toggleable__control:checked~label.sk-toggleable__label {\n",
              "  /* fitted */\n",
              "  background-color: var(--sklearn-color-fitted-level-2);\n",
              "}\n",
              "\n",
              "#sk-container-id-1 div.sk-label label.sk-toggleable__label,\n",
              "#sk-container-id-1 div.sk-label label {\n",
              "  /* The background is the default theme color */\n",
              "  color: var(--sklearn-color-text-on-default-background);\n",
              "}\n",
              "\n",
              "/* On hover, darken the color of the background */\n",
              "#sk-container-id-1 div.sk-label:hover label.sk-toggleable__label {\n",
              "  color: var(--sklearn-color-text);\n",
              "  background-color: var(--sklearn-color-unfitted-level-2);\n",
              "}\n",
              "\n",
              "/* Label box, darken color on hover, fitted */\n",
              "#sk-container-id-1 div.sk-label.fitted:hover label.sk-toggleable__label.fitted {\n",
              "  color: var(--sklearn-color-text);\n",
              "  background-color: var(--sklearn-color-fitted-level-2);\n",
              "}\n",
              "\n",
              "/* Estimator label */\n",
              "\n",
              "#sk-container-id-1 div.sk-label label {\n",
              "  font-family: monospace;\n",
              "  font-weight: bold;\n",
              "  display: inline-block;\n",
              "  line-height: 1.2em;\n",
              "}\n",
              "\n",
              "#sk-container-id-1 div.sk-label-container {\n",
              "  text-align: center;\n",
              "}\n",
              "\n",
              "/* Estimator-specific */\n",
              "#sk-container-id-1 div.sk-estimator {\n",
              "  font-family: monospace;\n",
              "  border: 1px dotted var(--sklearn-color-border-box);\n",
              "  border-radius: 0.25em;\n",
              "  box-sizing: border-box;\n",
              "  margin-bottom: 0.5em;\n",
              "  /* unfitted */\n",
              "  background-color: var(--sklearn-color-unfitted-level-0);\n",
              "}\n",
              "\n",
              "#sk-container-id-1 div.sk-estimator.fitted {\n",
              "  /* fitted */\n",
              "  background-color: var(--sklearn-color-fitted-level-0);\n",
              "}\n",
              "\n",
              "/* on hover */\n",
              "#sk-container-id-1 div.sk-estimator:hover {\n",
              "  /* unfitted */\n",
              "  background-color: var(--sklearn-color-unfitted-level-2);\n",
              "}\n",
              "\n",
              "#sk-container-id-1 div.sk-estimator.fitted:hover {\n",
              "  /* fitted */\n",
              "  background-color: var(--sklearn-color-fitted-level-2);\n",
              "}\n",
              "\n",
              "/* Specification for estimator info (e.g. \"i\" and \"?\") */\n",
              "\n",
              "/* Common style for \"i\" and \"?\" */\n",
              "\n",
              ".sk-estimator-doc-link,\n",
              "a:link.sk-estimator-doc-link,\n",
              "a:visited.sk-estimator-doc-link {\n",
              "  float: right;\n",
              "  font-size: smaller;\n",
              "  line-height: 1em;\n",
              "  font-family: monospace;\n",
              "  background-color: var(--sklearn-color-background);\n",
              "  border-radius: 1em;\n",
              "  height: 1em;\n",
              "  width: 1em;\n",
              "  text-decoration: none !important;\n",
              "  margin-left: 1ex;\n",
              "  /* unfitted */\n",
              "  border: var(--sklearn-color-unfitted-level-1) 1pt solid;\n",
              "  color: var(--sklearn-color-unfitted-level-1);\n",
              "}\n",
              "\n",
              ".sk-estimator-doc-link.fitted,\n",
              "a:link.sk-estimator-doc-link.fitted,\n",
              "a:visited.sk-estimator-doc-link.fitted {\n",
              "  /* fitted */\n",
              "  border: var(--sklearn-color-fitted-level-1) 1pt solid;\n",
              "  color: var(--sklearn-color-fitted-level-1);\n",
              "}\n",
              "\n",
              "/* On hover */\n",
              "div.sk-estimator:hover .sk-estimator-doc-link:hover,\n",
              ".sk-estimator-doc-link:hover,\n",
              "div.sk-label-container:hover .sk-estimator-doc-link:hover,\n",
              ".sk-estimator-doc-link:hover {\n",
              "  /* unfitted */\n",
              "  background-color: var(--sklearn-color-unfitted-level-3);\n",
              "  color: var(--sklearn-color-background);\n",
              "  text-decoration: none;\n",
              "}\n",
              "\n",
              "div.sk-estimator.fitted:hover .sk-estimator-doc-link.fitted:hover,\n",
              ".sk-estimator-doc-link.fitted:hover,\n",
              "div.sk-label-container:hover .sk-estimator-doc-link.fitted:hover,\n",
              ".sk-estimator-doc-link.fitted:hover {\n",
              "  /* fitted */\n",
              "  background-color: var(--sklearn-color-fitted-level-3);\n",
              "  color: var(--sklearn-color-background);\n",
              "  text-decoration: none;\n",
              "}\n",
              "\n",
              "/* Span, style for the box shown on hovering the info icon */\n",
              ".sk-estimator-doc-link span {\n",
              "  display: none;\n",
              "  z-index: 9999;\n",
              "  position: relative;\n",
              "  font-weight: normal;\n",
              "  right: .2ex;\n",
              "  padding: .5ex;\n",
              "  margin: .5ex;\n",
              "  width: min-content;\n",
              "  min-width: 20ex;\n",
              "  max-width: 50ex;\n",
              "  color: var(--sklearn-color-text);\n",
              "  box-shadow: 2pt 2pt 4pt #999;\n",
              "  /* unfitted */\n",
              "  background: var(--sklearn-color-unfitted-level-0);\n",
              "  border: .5pt solid var(--sklearn-color-unfitted-level-3);\n",
              "}\n",
              "\n",
              ".sk-estimator-doc-link.fitted span {\n",
              "  /* fitted */\n",
              "  background: var(--sklearn-color-fitted-level-0);\n",
              "  border: var(--sklearn-color-fitted-level-3);\n",
              "}\n",
              "\n",
              ".sk-estimator-doc-link:hover span {\n",
              "  display: block;\n",
              "}\n",
              "\n",
              "/* \"?\"-specific style due to the `<a>` HTML tag */\n",
              "\n",
              "#sk-container-id-1 a.estimator_doc_link {\n",
              "  float: right;\n",
              "  font-size: 1rem;\n",
              "  line-height: 1em;\n",
              "  font-family: monospace;\n",
              "  background-color: var(--sklearn-color-background);\n",
              "  border-radius: 1rem;\n",
              "  height: 1rem;\n",
              "  width: 1rem;\n",
              "  text-decoration: none;\n",
              "  /* unfitted */\n",
              "  color: var(--sklearn-color-unfitted-level-1);\n",
              "  border: var(--sklearn-color-unfitted-level-1) 1pt solid;\n",
              "}\n",
              "\n",
              "#sk-container-id-1 a.estimator_doc_link.fitted {\n",
              "  /* fitted */\n",
              "  border: var(--sklearn-color-fitted-level-1) 1pt solid;\n",
              "  color: var(--sklearn-color-fitted-level-1);\n",
              "}\n",
              "\n",
              "/* On hover */\n",
              "#sk-container-id-1 a.estimator_doc_link:hover {\n",
              "  /* unfitted */\n",
              "  background-color: var(--sklearn-color-unfitted-level-3);\n",
              "  color: var(--sklearn-color-background);\n",
              "  text-decoration: none;\n",
              "}\n",
              "\n",
              "#sk-container-id-1 a.estimator_doc_link.fitted:hover {\n",
              "  /* fitted */\n",
              "  background-color: var(--sklearn-color-fitted-level-3);\n",
              "}\n",
              "</style><div id=\"sk-container-id-1\" class=\"sk-top-container\"><div class=\"sk-text-repr-fallback\"><pre>LinearRegression()</pre><b>In a Jupyter environment, please rerun this cell to show the HTML representation or trust the notebook. <br />On GitHub, the HTML representation is unable to render, please try loading this page with nbviewer.org.</b></div><div class=\"sk-container\" hidden><div class=\"sk-item\"><div class=\"sk-estimator fitted sk-toggleable\"><input class=\"sk-toggleable__control sk-hidden--visually\" id=\"sk-estimator-id-1\" type=\"checkbox\" checked><label for=\"sk-estimator-id-1\" class=\"sk-toggleable__label fitted sk-toggleable__label-arrow fitted\">&nbsp;&nbsp;LinearRegression<a class=\"sk-estimator-doc-link fitted\" rel=\"noreferrer\" target=\"_blank\" href=\"https://scikit-learn.org/1.5/modules/generated/sklearn.linear_model.LinearRegression.html\">?<span>Documentation for LinearRegression</span></a><span class=\"sk-estimator-doc-link fitted\">i<span>Fitted</span></span></label><div class=\"sk-toggleable__content fitted\"><pre>LinearRegression()</pre></div> </div></div></div></div>"
            ],
            "text/plain": [
              "LinearRegression()"
            ]
          },
          "execution_count": 7,
          "metadata": {},
          "output_type": "execute_result"
        }
      ],
      "source": [
        "# 선형 모델을 선택합니다.\n",
        "model = LinearRegression()\n",
        "#모델을 훈련합니다\n",
        "model.fit(x,y)"
      ]
    },
    {
      "cell_type": "code",
      "execution_count": 8,
      "metadata": {},
      "outputs": [
        {
          "name": "stdout",
          "output_type": "stream",
          "text": [
            "[[5.95219183]]\n",
            "[[8.93490769]]\n"
          ]
        }
      ],
      "source": [
        "korea = [[32_500]]\n",
        "print(model.predict(korea))\n",
        "\n",
        "usa = [[76_500]]\n",
        "print(model.predict(usa))"
      ]
    },
    {
      "cell_type": "code",
      "execution_count": null,
      "metadata": {},
      "outputs": [],
      "source": []
    },
    {
      "cell_type": "markdown",
      "metadata": {
        "id": "0HEByBpBX1VZ"
      },
      "source": [
        "이전 코드에서 선형 회귀 모델을 k-최근접 이웃 회귀(이 경우 k=3)로 바꾸려면 간단하게 다음 두 라인만 바꾸면 됩니다:\n",
        "\n",
        "```python\n",
        "from sklearn.linear_model import LinearRegression\n",
        "\n",
        "model = LinearRegression()\n",
        "```\n",
        "\n",
        "아래와 같이 바꿉니다:\n",
        "\n",
        "```python\n",
        "from sklearn.neighbors import KNeighborsRegressor\n",
        "\n",
        "model = KNeighborsRegressor(n_neighbors=3)\n",
        "```"
      ]
    },
    {
      "cell_type": "code",
      "execution_count": 9,
      "metadata": {
        "colab": {
          "base_uri": "https://localhost:8080/"
        },
        "id": "qkwCBuZNX1VZ",
        "outputId": "9f5df7c3-9bc4-4562-ab3f-350d5e1be490"
      },
      "outputs": [
        {
          "name": "stdout",
          "output_type": "stream",
          "text": [
            "[[5.7]]\n",
            "[[7.3]]\n"
          ]
        }
      ],
      "source": [
        "# 3-최근접 이웃 회귀 모델로 바꿉니다.\n",
        "from sklearn.neighbors import KNeighborsRegressor\n",
        "\n",
        "model = KNeighborsRegressor(n_neighbors = 3)\n",
        "\n",
        "# 모델을 훈련합니다\n",
        "model.fit(x, y)\n",
        "\n",
        "\n",
        "# 키프로스에 대한 예측을 만듭니다\n",
        "print(model.predict(korea))\n",
        "print(model.predict(usa))"
      ]
    },
    {
      "cell_type": "markdown",
      "metadata": {
        "id": "eGaQ9rQRX1VZ",
        "tags": []
      },
      "source": [
        "# 데이터와 그림 생성하기 — 건너 뛰세요"
      ]
    },
    {
      "cell_type": "markdown",
      "metadata": {
        "id": "fqjnMIEIX1Va"
      },
      "source": [
        "`lifesat.csv` 데이터셋을 만들기 위한 코드입니다. 이 부분을 건너뛰어도 괜찮습니다."
      ]
    },
    {
      "cell_type": "markdown",
      "metadata": {
        "id": "eUskzu8eX1Va"
      },
      "source": [
        "그림을 저장하기 위한 함수를 만듭니다:"
      ]
    },
    {
      "cell_type": "code",
      "execution_count": 8,
      "metadata": {
        "id": "67cPSDvhX1Va"
      },
      "outputs": [],
      "source": [
        "from pathlib import Path\n",
        "\n",
        "# 그림을 저장할 위치\n",
        "IMAGES_PATH = Path() / \"images\" / \"fundamentals\"\n",
        "IMAGES_PATH.mkdir(parents=True, exist_ok=True)\n",
        "\n",
        "def save_fig(fig_id, tight_layout=True, fig_extension=\"png\", resolution=300):\n",
        "    path = IMAGES_PATH / f\"{fig_id}.{fig_extension}\"\n",
        "    if tight_layout:\n",
        "        plt.tight_layout()\n",
        "    plt.savefig(path, format=fig_extension, dpi=resolution)"
      ]
    },
    {
      "cell_type": "markdown",
      "metadata": {
        "id": "khbFW5ZBX1Va"
      },
      "source": [
        "## 삶의 만족도 데이터 로드하고 준비하기"
      ]
    },
    {
      "cell_type": "markdown",
      "metadata": {
        "id": "9ObWo7LvX1Va"
      },
      "source": [
        "`lifesat.csv` 파일을 만들기 위해 [OECD 웹사이트](http://stats.oecd.org/index.aspx?DataSetCode=BLI)에서 (각 국가의 삶의 만족도를 얻으려고) (2020년) BLI(Better Life Index) 데이터와 [OurWorldInData.org](https://ourworldindata.org/grapher/gdp-per-capita-worldbank)에서 (2020년까지) 세계 은행의 1인당 GDP 데이터를 다운로드했습니다."
      ]
    },
    {
      "cell_type": "code",
      "execution_count": null,
      "metadata": {
        "colab": {
          "base_uri": "https://localhost:8080/"
        },
        "id": "M2jjyMW0X1Va",
        "outputId": "1d3eb350-ce74-40bb-ef60-ce689c874eb4"
      },
      "outputs": [],
      "source": [
        "import urllib.request\n",
        "\n",
        "datapath = Path() / \"datasets\" / \"lifesat\"\n",
        "datapath.mkdir(parents=True, exist_ok=True)\n",
        "\n",
        "data_root = \"https://github.com/ageron/data/raw/main/\"\n",
        "for filename in (\"oecd_bli.csv\", \"gdp_per_capita.csv\"):\n",
        "    if not (datapath / filename).is_file():\n",
        "        print(\"Downloading\", filename)\n",
        "        url = data_root + \"lifesat/\" + filename\n",
        "        urllib.request.urlretrieve(url, datapath / filename)"
      ]
    },
    {
      "cell_type": "code",
      "execution_count": 10,
      "metadata": {
        "id": "snDY5D_iX1Va"
      },
      "outputs": [],
      "source": [
        "oecd_bli = pd.read_csv(datapath / \"oecd_bli.csv\")\n",
        "gdp_per_capita = pd.read_csv(datapath / \"gdp_per_capita.csv\")"
      ]
    },
    {
      "cell_type": "markdown",
      "metadata": {
        "id": "l04gMPwZX1Va"
      },
      "source": [
        "2020년도 것만 남기도록 1인당 GDP 데이터를 전처리합니다:"
      ]
    },
    {
      "cell_type": "code",
      "execution_count": null,
      "metadata": {
        "colab": {
          "base_uri": "https://localhost:8080/",
          "height": 238
        },
        "id": "8kiiwtjCX1Vb",
        "outputId": "4210794f-73bd-485b-e14a-925427389501"
      },
      "outputs": [],
      "source": [
        "gdp_year = 2020\n",
        "gdppc_col = \"GDP per capita (USD)\"\n",
        "lifesat_col = \"Life satisfaction\"\n",
        "\n",
        "gdp_per_capita = gdp_per_capita[gdp_per_capita[\"Year\"] == gdp_year]\n",
        "gdp_per_capita = gdp_per_capita.drop([\"Code\", \"Year\"], axis=1)\n",
        "gdp_per_capita.columns = [\"Country\", gdppc_col]\n",
        "gdp_per_capita.set_index(\"Country\", inplace=True)\n",
        "\n",
        "gdp_per_capita.head()"
      ]
    },
    {
      "cell_type": "markdown",
      "metadata": {
        "id": "yr6aUkG9X1Vb"
      },
      "source": [
        "`Life satisfaction` 열만 남도록 OECD BLI 데이터를 전처리합니다:"
      ]
    },
    {
      "cell_type": "code",
      "execution_count": null,
      "metadata": {
        "colab": {
          "base_uri": "https://localhost:8080/",
          "height": 391
        },
        "id": "KEwC7reZX1Vb",
        "outputId": "6ed0f108-c6b4-402d-cfab-803dc36ae56e"
      },
      "outputs": [],
      "source": [
        "oecd_bli = oecd_bli[oecd_bli[\"INEQUALITY\"]==\"TOT\"]\n",
        "oecd_bli = oecd_bli.pivot(index=\"Country\", columns=\"Indicator\", values=\"Value\")\n",
        "\n",
        "oecd_bli.head()"
      ]
    },
    {
      "cell_type": "markdown",
      "metadata": {
        "id": "YJH7MoD8X1Vc"
      },
      "source": [
        "이제 삶의 만족도 데이터와 1인당 GDP 데이타를 합친 뒤 1인당 GDP 열과 삶의 만족도 열만 남깁니다:"
      ]
    },
    {
      "cell_type": "code",
      "execution_count": null,
      "metadata": {
        "colab": {
          "base_uri": "https://localhost:8080/",
          "height": 238
        },
        "id": "cRY5xOWHX1Vc",
        "outputId": "aa8740b9-cdde-45eb-ec80-0c930971119d"
      },
      "outputs": [],
      "source": [
        "full_country_stats = pd.merge(left=oecd_bli, right=gdp_per_capita,\n",
        "                              left_index=True, right_index=True)\n",
        "full_country_stats.sort_values(by=gdppc_col, inplace=True)\n",
        "full_country_stats = full_country_stats[[gdppc_col, lifesat_col]]\n",
        "\n",
        "full_country_stats.head()"
      ]
    },
    {
      "cell_type": "markdown",
      "metadata": {
        "id": "82hiqMtmX1Vc"
      },
      "source": [
        "과대적합에 대한 예시를 만들기 위해, 데이터의 일부(1인당 GDP가 `min_gdp`와 `max_gdp` 사이에 있는 나라들)만 사용하여 그림을 그립니다. 나중에 누락된 나라를 추가하여 동일한 트렌드를 따르지 않는다는 것을 보이겠습니다."
      ]
    },
    {
      "cell_type": "code",
      "execution_count": null,
      "metadata": {
        "colab": {
          "base_uri": "https://localhost:8080/",
          "height": 238
        },
        "id": "r5e49_96X1Vc",
        "outputId": "6e364275-f016-416f-fb64-0328db1fa637"
      },
      "outputs": [],
      "source": [
        "min_gdp = 23_500\n",
        "max_gdp = 62_500\n",
        "\n",
        "country_stats = full_country_stats[(full_country_stats[gdppc_col] >= min_gdp) &\n",
        "                                   (full_country_stats[gdppc_col] <= max_gdp)]\n",
        "country_stats.head()"
      ]
    },
    {
      "cell_type": "code",
      "execution_count": 15,
      "metadata": {
        "id": "1uEKSX94X1Vc"
      },
      "outputs": [],
      "source": [
        "country_stats.to_csv(datapath / \"lifesat.csv\")\n",
        "full_country_stats.to_csv(datapath / \"lifesat_full.csv\")"
      ]
    },
    {
      "cell_type": "code",
      "execution_count": null,
      "metadata": {
        "colab": {
          "base_uri": "https://localhost:8080/",
          "height": 301
        },
        "id": "YB4U_up9X1Vd",
        "outputId": "9148f0e1-c02b-45cf-f27b-ee07d9cbe3ba"
      },
      "outputs": [],
      "source": [
        "country_stats.plot(kind='scatter', figsize=(5, 3), grid=True,\n",
        "                   x=gdppc_col, y=lifesat_col)\n",
        "\n",
        "min_life_sat = 4\n",
        "max_life_sat = 9\n",
        "\n",
        "position_text = {\n",
        "    \"Turkey\": (29_500, 4.2),\n",
        "    \"Hungary\": (28_000, 6.9),\n",
        "    \"France\": (40_000, 5),\n",
        "    \"New Zealand\": (28_000, 8.2),\n",
        "    \"Australia\": (50_000, 5.5),\n",
        "    \"United States\": (59_000, 5.3),\n",
        "    \"Denmark\": (46_000, 8.5)\n",
        "}\n",
        "\n",
        "for country, pos_text in position_text.items():\n",
        "    pos_data_x = country_stats[gdppc_col].loc[country]\n",
        "    pos_data_y = country_stats[lifesat_col].loc[country]\n",
        "    country = \"U.S.\" if country == \"United States\" else country\n",
        "    plt.annotate(country, xy=(pos_data_x, pos_data_y),\n",
        "                 xytext=pos_text, fontsize=12,\n",
        "                 arrowprops=dict(facecolor='black', width=0.5,\n",
        "                                 shrink=0.08, headwidth=5))\n",
        "    plt.plot(pos_data_x, pos_data_y, \"ro\")\n",
        "\n",
        "plt.axis([min_gdp, max_gdp, min_life_sat, max_life_sat])\n",
        "\n",
        "save_fig('money_happy_scatterplot')\n",
        "plt.show()"
      ]
    },
    {
      "cell_type": "code",
      "execution_count": null,
      "metadata": {
        "colab": {
          "base_uri": "https://localhost:8080/",
          "height": 300
        },
        "id": "e_VlJpqkX1Vd",
        "outputId": "33c9fa8c-242f-4331-db19-28f91b774f55"
      },
      "outputs": [],
      "source": [
        "highlighted_countries = country_stats.loc[list(position_text.keys())]\n",
        "highlighted_countries[[gdppc_col, lifesat_col]].sort_values(by=gdppc_col)"
      ]
    },
    {
      "cell_type": "code",
      "execution_count": null,
      "metadata": {
        "colab": {
          "base_uri": "https://localhost:8080/",
          "height": 301
        },
        "id": "zEDWVjdUX1Vd",
        "outputId": "be3dcc28-ee0c-4fd3-c46a-208db330e210"
      },
      "outputs": [],
      "source": [
        "country_stats.plot(kind='scatter', figsize=(5, 3), grid=True,\n",
        "                   x=gdppc_col, y=lifesat_col)\n",
        "\n",
        "X = np.linspace(min_gdp, max_gdp, 1000)\n",
        "\n",
        "w1, w2 = 4.2, 0\n",
        "plt.plot(X, w1 + w2 * 1e-5 * X, \"r\")\n",
        "plt.text(40_000, 4.9, fr\"$\\theta_0 = {w1}$\", color=\"r\")\n",
        "plt.text(40_000, 4.4, fr\"$\\theta_1 = {w2}$\", color=\"r\")\n",
        "\n",
        "w1, w2 = 10, -9\n",
        "plt.plot(X, w1 + w2 * 1e-5 * X, \"g\")\n",
        "plt.text(26_000, 8.5, fr\"$\\theta_0 = {w1}$\", color=\"g\")\n",
        "plt.text(26_000, 8.0, fr\"$\\theta_1 = {w2} \\times 10^{{-5}}$\", color=\"g\")\n",
        "\n",
        "w1, w2 = 3, 8\n",
        "plt.plot(X, w1 + w2 * 1e-5 * X, \"b\")\n",
        "plt.text(48_000, 8.5, fr\"$\\theta_0 = {w1}$\", color=\"b\")\n",
        "plt.text(48_000, 8.0, fr\"$\\theta_1 = {w2} \\times 10^{{-5}}$\", color=\"b\")\n",
        "\n",
        "plt.axis([min_gdp, max_gdp, min_life_sat, max_life_sat])\n",
        "\n",
        "save_fig('tweaking_model_params_plot')\n",
        "plt.show()"
      ]
    },
    {
      "cell_type": "code",
      "execution_count": null,
      "metadata": {
        "colab": {
          "base_uri": "https://localhost:8080/"
        },
        "id": "B37VZ52dX1Vd",
        "outputId": "f6015279-87e0-4f8b-b8ae-3a8cf96483dd"
      },
      "outputs": [],
      "source": [
        "from sklearn import linear_model\n",
        "\n",
        "X_sample = country_stats[[gdppc_col]].values\n",
        "y_sample = country_stats[[lifesat_col]].values\n",
        "\n",
        "lin1 = linear_model.LinearRegression()\n",
        "lin1.fit(X_sample, y_sample)\n",
        "\n",
        "t0, t1 = lin1.intercept_[0], lin1.coef_[0][0]\n",
        "print(f\"θ0={t0:.2f}, θ1={t1:.2e}\")"
      ]
    },
    {
      "cell_type": "code",
      "execution_count": null,
      "metadata": {
        "colab": {
          "base_uri": "https://localhost:8080/",
          "height": 301
        },
        "id": "EMZf5CYdX1Vd",
        "outputId": "851b9b54-99f2-437d-cf01-5c6fea0d5b6a"
      },
      "outputs": [],
      "source": [
        "country_stats.plot(kind='scatter', figsize=(5, 3), grid=True,\n",
        "                   x=gdppc_col, y=lifesat_col)\n",
        "\n",
        "X = np.linspace(min_gdp, max_gdp, 1000)\n",
        "plt.plot(X, t0 + t1 * X, \"b\")\n",
        "\n",
        "plt.text(max_gdp - 20_000, min_life_sat + 1.9,\n",
        "         fr\"$\\theta_0 = {t0:.2f}$\", color=\"b\")\n",
        "plt.text(max_gdp - 20_000, min_life_sat + 1.3,\n",
        "         fr\"$\\theta_1 = {t1 * 1e5:.2f} \\times 10^{{-5}}$\", color=\"b\")\n",
        "\n",
        "plt.axis([min_gdp, max_gdp, min_life_sat, max_life_sat])\n",
        "\n",
        "save_fig('best_fit_model_plot')\n",
        "plt.show()"
      ]
    },
    {
      "cell_type": "code",
      "execution_count": null,
      "metadata": {
        "colab": {
          "base_uri": "https://localhost:8080/"
        },
        "id": "A3q2fOCXX1Vd",
        "outputId": "9f640e89-ac07-4caf-a4fd-7c79b4a35f4f"
      },
      "outputs": [],
      "source": [
        "cyprus_gdp_per_capita = gdp_per_capita[gdppc_col].loc[\"Cyprus\"]\n",
        "cyprus_gdp_per_capita"
      ]
    },
    {
      "cell_type": "code",
      "execution_count": null,
      "metadata": {
        "colab": {
          "base_uri": "https://localhost:8080/"
        },
        "id": "rmVzK9lrX1Ve",
        "outputId": "29a771c5-f03d-4dc1-b989-b861be2c9ab7"
      },
      "outputs": [],
      "source": [
        "cyprus_predicted_life_satisfaction = lin1.predict([[cyprus_gdp_per_capita]])[0, 0]\n",
        "cyprus_predicted_life_satisfaction"
      ]
    },
    {
      "cell_type": "code",
      "execution_count": null,
      "metadata": {
        "colab": {
          "base_uri": "https://localhost:8080/",
          "height": 321
        },
        "id": "5FcrZ_bfX1Vh",
        "outputId": "b47f7433-c5b0-4411-b045-7ce26f40df7e"
      },
      "outputs": [],
      "source": [
        "country_stats.plot(kind='scatter', figsize=(5, 3), grid=True,\n",
        "                   x=gdppc_col, y=lifesat_col)\n",
        "\n",
        "X = np.linspace(min_gdp, max_gdp, 1000)\n",
        "plt.plot(X, t0 + t1 * X, \"b\")\n",
        "\n",
        "plt.text(min_gdp + 22_000, max_life_sat - 1.1,\n",
        "         fr\"$\\theta_0 = {t0:.2f}$\", color=\"b\")\n",
        "plt.text(min_gdp + 22_000, max_life_sat - 0.6,\n",
        "         fr\"$\\theta_1 = {t1 * 1e5:.2f} \\times 10^{{-5}}$\", color=\"b\")\n",
        "\n",
        "plt.plot([cyprus_gdp_per_capita, cyprus_gdp_per_capita],\n",
        "         [min_life_sat, cyprus_predicted_life_satisfaction], \"r--\")\n",
        "plt.text(cyprus_gdp_per_capita + 1000, 5.0,\n",
        "         fr\"Prediction = {cyprus_predicted_life_satisfaction:.2f}\", color=\"r\")\n",
        "plt.plot(cyprus_gdp_per_capita, cyprus_predicted_life_satisfaction, \"ro\")\n",
        "\n",
        "plt.axis([min_gdp, max_gdp, min_life_sat, max_life_sat])\n",
        "\n",
        "plt.show()"
      ]
    },
    {
      "cell_type": "code",
      "execution_count": null,
      "metadata": {
        "colab": {
          "base_uri": "https://localhost:8080/",
          "height": 363
        },
        "id": "amyt2fwcX1Vh",
        "outputId": "3a532f9b-96b3-44a6-faf8-7d6ba0f07656"
      },
      "outputs": [],
      "source": [
        "missing_data = full_country_stats[(full_country_stats[gdppc_col] < min_gdp) |\n",
        "                                  (full_country_stats[gdppc_col] > max_gdp)]\n",
        "missing_data"
      ]
    },
    {
      "cell_type": "code",
      "execution_count": 25,
      "metadata": {
        "id": "ZmS830mdX1Vi"
      },
      "outputs": [],
      "source": [
        "position_text_missing_countries = {\n",
        "    \"South Africa\": (20_000, 4.2),\n",
        "    \"Colombia\": (6_000, 8.2),\n",
        "    \"Brazil\": (18_000, 7.8),\n",
        "    \"Mexico\": (24_000, 7.4),\n",
        "    \"Chile\": (30_000, 7.0),\n",
        "    \"Norway\": (51_000, 6.2),\n",
        "    \"Switzerland\": (62_000, 5.7),\n",
        "    \"Ireland\": (81_000, 5.2),\n",
        "    \"Luxembourg\": (92_000, 4.7),\n",
        "}"
      ]
    },
    {
      "cell_type": "code",
      "execution_count": null,
      "metadata": {
        "colab": {
          "base_uri": "https://localhost:8080/",
          "height": 301
        },
        "id": "COH_QGvsX1Vi",
        "outputId": "d4898958-79dd-405c-8f24-805041328ddd"
      },
      "outputs": [],
      "source": [
        "full_country_stats.plot(kind='scatter', figsize=(8, 3),\n",
        "                        x=gdppc_col, y=lifesat_col, grid=True)\n",
        "\n",
        "for country, pos_text in position_text_missing_countries.items():\n",
        "    pos_data_x, pos_data_y = missing_data.loc[country]\n",
        "    plt.annotate(country, xy=(pos_data_x, pos_data_y),\n",
        "                 xytext=pos_text, fontsize=12,\n",
        "                 arrowprops=dict(facecolor='black', width=0.5,\n",
        "                                 shrink=0.08, headwidth=5))\n",
        "    plt.plot(pos_data_x, pos_data_y, \"rs\")\n",
        "\n",
        "X = np.linspace(0, 115_000, 1000)\n",
        "plt.plot(X, t0 + t1 * X, \"b:\")\n",
        "\n",
        "lin_reg_full = linear_model.LinearRegression()\n",
        "Xfull = np.c_[full_country_stats[gdppc_col]]\n",
        "yfull = np.c_[full_country_stats[lifesat_col]]\n",
        "lin_reg_full.fit(Xfull, yfull)\n",
        "\n",
        "t0full, t1full = lin_reg_full.intercept_[0], lin_reg_full.coef_[0][0]\n",
        "X = np.linspace(0, 115_000, 1000)\n",
        "plt.plot(X, t0full + t1full * X, \"k\")\n",
        "\n",
        "plt.axis([0, 115_000, min_life_sat, max_life_sat])\n",
        "\n",
        "save_fig('representative_training_data_scatterplot')\n",
        "plt.show()"
      ]
    },
    {
      "cell_type": "code",
      "execution_count": null,
      "metadata": {
        "colab": {
          "base_uri": "https://localhost:8080/",
          "height": 301
        },
        "id": "4Rp8BVhBX1Vi",
        "outputId": "482217b8-3e4d-47d2-bed8-7e090f939f17"
      },
      "outputs": [],
      "source": [
        "from sklearn import preprocessing\n",
        "from sklearn import pipeline\n",
        "\n",
        "full_country_stats.plot(kind='scatter', figsize=(8, 3),\n",
        "                        x=gdppc_col, y=lifesat_col, grid=True)\n",
        "\n",
        "poly = preprocessing.PolynomialFeatures(degree=10, include_bias=False)\n",
        "scaler = preprocessing.StandardScaler()\n",
        "lin_reg2 = linear_model.LinearRegression()\n",
        "\n",
        "pipeline_reg = pipeline.Pipeline([\n",
        "    ('poly', poly),\n",
        "    ('scal', scaler),\n",
        "    ('lin', lin_reg2)])\n",
        "pipeline_reg.fit(Xfull, yfull)\n",
        "curve = pipeline_reg.predict(X[:, np.newaxis])\n",
        "plt.plot(X, curve)\n",
        "\n",
        "plt.axis([0, 115_000, min_life_sat, max_life_sat])\n",
        "\n",
        "save_fig('overfitting_model_plot')\n",
        "plt.show()"
      ]
    },
    {
      "cell_type": "code",
      "execution_count": null,
      "metadata": {
        "colab": {
          "base_uri": "https://localhost:8080/"
        },
        "id": "kl7IRxSkX1Vi",
        "outputId": "aee4092b-fdfc-4788-8fcd-299def9290b8"
      },
      "outputs": [],
      "source": [
        "w_countries = [c for c in full_country_stats.index if \"W\" in c.upper()]\n",
        "full_country_stats.loc[w_countries][lifesat_col]"
      ]
    },
    {
      "cell_type": "code",
      "execution_count": null,
      "metadata": {
        "colab": {
          "base_uri": "https://localhost:8080/",
          "height": 551
        },
        "id": "CcVzIujiX1Vi",
        "outputId": "ff88d722-55ac-4c63-f776-f69c5ebec884"
      },
      "outputs": [],
      "source": [
        "all_w_countries = [c for c in gdp_per_capita.index if \"W\" in c.upper()]\n",
        "gdp_per_capita.loc[all_w_countries].sort_values(by=gdppc_col)"
      ]
    },
    {
      "cell_type": "code",
      "execution_count": null,
      "metadata": {
        "colab": {
          "base_uri": "https://localhost:8080/",
          "height": 301
        },
        "id": "G7Ce5zGLX1Vi",
        "outputId": "cdc097d1-7947-4d6a-fafd-764b224b7614",
        "tags": []
      },
      "outputs": [],
      "source": [
        "country_stats.plot(kind='scatter', x=gdppc_col, y=lifesat_col, figsize=(8, 3))\n",
        "missing_data.plot(kind='scatter', x=gdppc_col, y=lifesat_col,\n",
        "                  marker=\"s\", color=\"r\", grid=True, ax=plt.gca())\n",
        "\n",
        "X = np.linspace(0, 115_000, 1000)\n",
        "plt.plot(X, t0 + t1*X, \"b:\", label=\"Linear model on partial data\")\n",
        "plt.plot(X, t0full + t1full * X, \"k-\", label=\"Linear model on all data\")\n",
        "\n",
        "ridge = linear_model.Ridge(alpha=10**9.5)\n",
        "X_sample = country_stats[[gdppc_col]]\n",
        "y_sample = country_stats[[lifesat_col]]\n",
        "ridge.fit(X_sample, y_sample)\n",
        "t0ridge, t1ridge = ridge.intercept_[0], ridge.coef_[0][0]\n",
        "plt.plot(X, t0ridge + t1ridge * X, \"b--\",\n",
        "         label=\"Regularized linear model on partial data\")\n",
        "plt.legend(loc=\"lower right\")\n",
        "\n",
        "plt.axis([0, 115_000, min_life_sat, max_life_sat])\n",
        "\n",
        "save_fig('ridge_model_plot')\n",
        "plt.show()"
      ]
    }
  ],
  "metadata": {
    "colab": {
      "provenance": []
    },
    "kernelspec": {
      "display_name": "Python 3 (ipykernel)",
      "language": "python",
      "name": "python3"
    },
    "language_info": {
      "codemirror_mode": {
        "name": "ipython",
        "version": 3
      },
      "file_extension": ".py",
      "mimetype": "text/x-python",
      "name": "python",
      "nbconvert_exporter": "python",
      "pygments_lexer": "ipython3",
      "version": "3.12.1"
    },
    "metadata": {
      "interpreter": {
        "hash": "22b0ec00cd9e253c751e6d2619fc0bb2d18ed12980de3246690d5be49479dd65"
      }
    },
    "nav_menu": {},
    "toc": {
      "navigate_menu": true,
      "number_sections": true,
      "sideBar": true,
      "threshold": 6,
      "toc_cell": false,
      "toc_section_display": "block",
      "toc_window_display": true
    },
    "toc_position": {
      "height": "616px",
      "left": "0px",
      "right": "20px",
      "top": "106px",
      "width": "213px"
    }
  },
  "nbformat": 4,
  "nbformat_minor": 0
}
